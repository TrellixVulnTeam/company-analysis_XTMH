{
 "cells": [
  {
   "cell_type": "code",
   "execution_count": 1,
   "metadata": {},
   "outputs": [],
   "source": [
    "'''\n",
    "Import Statements: \n",
    "(i) pandas for dataframe and data analysis\n",
    "(ii) numpy for mathematics and LinAlg Operations\n",
    "(iii) XML tree to generate and process XML files (NOT USED)\n",
    "(iv) sec_edgar_downloader to download SEC files\n",
    "'''\n",
    "import glob, os\n",
    "import pandas as pd\n",
    "import numpy as np\n",
    "import xml.etree.ElementTree as ET\n",
    "# To edit the sec_edgar_downloader, navigate to: /usr/local/lib/python3.7/sec_edgar_downloader/Downloader.py\n",
    "# See: https://pypi.org/project/sec-edgar-downloader/ for further documentation\n",
    "from sec_edgar_downloader import Downloader"
   ]
  },
  {
   "cell_type": "code",
   "execution_count": 2,
   "metadata": {},
   "outputs": [],
   "source": [
    "'''\n",
    "Method to download 13-F-HR SEC Filings from Mutual Funds and Hedge Funds\n",
    "    @param: CIK: a string representing the CIK number for the fund\n",
    "    @param: saveFile: a string representing the text file to save the data\n",
    "                      eg. 'output.txt'\n",
    "    @return: None\n",
    "'''\n",
    "def download_file(CIK, saveFile, basePath):\n",
    "    dl = Downloader(basePath)\n",
    "    dl.get('13F-HR',CIK,num_filings_to_download=1)\n",
    "    xml_start = 0 ; xml_end = 0\n",
    "    paths = []\n",
    "    for file in glob.glob(\"{}/sec_edgar_filings/{}/13F-HR/*.txt\".format(basePath,CIK)):\n",
    "        paths.append(file)\n",
    "        \n",
    "    # This just pulls the first file. Amennd this to pick a file\n",
    "    print(\"Loading CIK: {}\".format(str(CIK)))\n",
    "    path = paths[0]\n",
    "    \n",
    "    text = \"\"\n",
    "    with open(path, 'r') as input:\n",
    "        for line in input:\n",
    "            if \"<informationTable\" in line:\n",
    "                xml_start += 1\n",
    "            if \"</informationTable>\" in line:\n",
    "                xml_end += 1\n",
    "            if xml_start >= 1:\n",
    "                text += line\n",
    "            if xml_end == 1:\n",
    "                break\n",
    "    with open(\"{}/sec_edgar_filings/{}/13F-HR/{}\".format(basePath, CIK, saveFile), \"w\") as text_file:\n",
    "        text_file.write(text)"
   ]
  },
  {
   "cell_type": "code",
   "execution_count": 3,
   "metadata": {},
   "outputs": [],
   "source": [
    "'''\n",
    "Method to generate a dataframe given a .txt or .xml save file containing 13-F-HR data\n",
    "    @param: saveFile: a string representing the text or xml file that has the saved data\n",
    "                      eg. 'output.txt'\n",
    "    @return: a pandas dataframe with the following columns:\n",
    "            (1) Company Name, (2) Class, (3) Value, (4) PutCall\n",
    "'''\n",
    "def generate_dataframe(saveFile):\n",
    "    lengths = []\n",
    "    tree = ET.parse(saveFile)\n",
    "    root = tree.getroot() \n",
    "    preTag = root.tag.split('}')[0] + '}' \n",
    "    cols = {'nameOfIssuer': 'Company Name', 'titleOfClass': 'Class', \n",
    "            'value': 'Value', 'putCall': 'PutCall'}\n",
    "    data = {'Company Name': [], 'Class': [], 'Value': [], 'PutCall': []}\n",
    "    for i in range(len(root)):\n",
    "        for col in cols:\n",
    "            field = root[i].findall(preTag + col)\n",
    "            if field:\n",
    "                if col == 'value':\n",
    "                    data[cols[col]].append(int(field[0].text))\n",
    "                else:\n",
    "                    data[cols[col]].append(field[0].text)\n",
    "            else:\n",
    "                data[cols[col]].append(np.nan)\n",
    "    df = pd.DataFrame(data)\n",
    "    return df"
   ]
  },
  {
   "cell_type": "markdown",
   "metadata": {},
   "source": [
    "# Common CIKs#\n",
    "D.E. Shaw: 1009207 <br>\n",
    "Citadel Advisors LLC: : 1423053 <br>\n",
    "Two Sigma Advisors LP: 1478735 <br>\n",
    "Reinassance Technologies LLC: 1037389 <br>\n",
    "Jane Street Group LLC: 1595888 <br>\n",
    "Bridgewater Associates LP: 1350694 <br>\n",
    "AQR Capital Management LLC: 1167557 <br>\n",
    "Elliott Management Corporation: 1048445 <br>\n",
    "Millennium Management LLC: 0001273087 <br>\n"
   ]
  },
  {
   "cell_type": "code",
   "execution_count": 4,
   "metadata": {},
   "outputs": [
    {
     "name": "stdout",
     "output_type": "stream",
     "text": [
      "Loading CIK: 1009207\n",
      "Loading CIK: 1423053\n",
      "Loading CIK: 1478735\n",
      "Loading CIK: 1037389\n",
      "Loading CIK: 1595888\n",
      "Loading CIK: 1350694\n",
      "Loading CIK: 1167557\n"
     ]
    }
   ],
   "source": [
    "'''\n",
    "Method to download multiple different files for different funds. \n",
    "    @param: basePath: a path to the storage location of each funds data\n",
    "    @param: CIKS: list of CIK numbers for each fund searched\n",
    "    @return: None\n",
    "'''\n",
    "def download_files(basePath, CIKS):\n",
    "    for CIK in CIKS:\n",
    "        download_file(CIK, 'output.txt', basePath)\n",
    "\n",
    "CIKS_to_download = ['1009207', '1423053', '1478735', '1037389', '1595888', '1350694', '1167557']\n",
    "download_files(\"/Users/mymacbook/Desktop/SEC Parser\", CIKS_to_download)"
   ]
  },
  {
   "cell_type": "code",
   "execution_count": 5,
   "metadata": {},
   "outputs": [
    {
     "name": "stdout",
     "output_type": "stream",
     "text": [
      "Processing CIK: 1009207\n",
      "Processing CIK: 1423053\n",
      "Processing CIK: 1478735\n",
      "Processing CIK: 1037389\n",
      "Processing CIK: 1595888\n",
      "Processing CIK: 1350694\n",
      "Processing CIK: 1167557\n"
     ]
    }
   ],
   "source": [
    "'''\n",
    "Method to return a complete dataframe given a CIK and a base path\n",
    "    @param: basePath: a path to the storage point of output.txt and where sec_edgar_filings will be stored\n",
    "    @param: CIK: a string for the CIK number of the fund being searched \n",
    "    @return: fund_dict: a dictionary pointing each CIK to a dataframe with \n",
    "                        columns [Company Name, Class, Value, PutCall] for the given fund\n",
    "'''\n",
    "def loadDataFrame(basePath, CIKS):\n",
    "    fund_dict = {}\n",
    "    for CIK in CIKS:\n",
    "        print(\"Processing CIK: {}\".format(str(CIK)))\n",
    "        df = generate_dataframe(basePath + \"/sec_edgar_filings/{}/13F-HR/output.txt\".format(str(CIK)))\n",
    "        fund_dict[CIK] = df\n",
    "    return fund_dict\n",
    "\n",
    "CIKS_to_load = ['1009207', '1423053', '1478735', '1037389', '1595888', '1350694', '1167557']\n",
    "fund_dict = loadDataFrame(\"/Users/mymacbook/Desktop/SEC Parser\", CIKS_to_load)"
   ]
  },
  {
   "cell_type": "code",
   "execution_count": 17,
   "metadata": {},
   "outputs": [],
   "source": [
    "def filterOnOptions(fund_dict, CIK):\n",
    "    df = fund_dict[CIK]\n",
    "    option_df = pd.merge(df[df['PutCall'] == 'Put'],df[df['PutCall'] == 'Call'], on='Company Name', how='outer')\n",
    "    option_df = option_df.fillna(0)\n",
    "    option_df['Diff'] = option_df['Value_y'] - option_df['Value_x']\n",
    "    option_df.sort_values('Diff', ascending=False)\n",
    "    return option_df\n",
    "\n",
    "def filterOnStock(fund_dict, CIK):\n",
    "    df = fund_dict[CIK]\n",
    "    stock_df = df[df[\"PutCall\"] != \"Put\"].merge(df[df[\"PutCall\"] != \"Call\"], how='inner')\n",
    "    stock_df.drop(columns=[\"PutCall\"])\n",
    "    stock_df.sort_values(\"Value\", ascending=False)\n",
    "    return stock_df"
   ]
  },
  {
   "cell_type": "code",
   "execution_count": null,
   "metadata": {},
   "outputs": [],
   "source": []
  },
  {
   "cell_type": "code",
   "execution_count": null,
   "metadata": {},
   "outputs": [],
   "source": []
  },
  {
   "cell_type": "code",
   "execution_count": null,
   "metadata": {},
   "outputs": [],
   "source": []
  },
  {
   "cell_type": "code",
   "execution_count": null,
   "metadata": {},
   "outputs": [],
   "source": []
  },
  {
   "cell_type": "code",
   "execution_count": null,
   "metadata": {},
   "outputs": [],
   "source": []
  },
  {
   "cell_type": "code",
   "execution_count": null,
   "metadata": {},
   "outputs": [],
   "source": []
  }
 ],
 "metadata": {
  "kernelspec": {
   "display_name": "SECParser",
   "language": "python",
   "name": "secparser"
  },
  "language_info": {
   "codemirror_mode": {
    "name": "ipython",
    "version": 3
   },
   "file_extension": ".py",
   "mimetype": "text/x-python",
   "name": "python",
   "nbconvert_exporter": "python",
   "pygments_lexer": "ipython3",
   "version": "3.7.7"
  }
 },
 "nbformat": 4,
 "nbformat_minor": 2
}
